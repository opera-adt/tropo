{
 "cells": [
  {
   "cell_type": "code",
   "execution_count": 13,
   "metadata": {},
   "outputs": [],
   "source": [
    "import pandas as pd\n",
    "from pathlib import Path\n",
    "import xarray as xr\n",
    "\n",
    "from opera_tropo import checks\n",
    "\n",
    "import logging\n",
    "logger = logging.getLogger('opera_tropo')"
   ]
  },
  {
   "cell_type": "code",
   "execution_count": 3,
   "metadata": {},
   "outputs": [],
   "source": [
    "work_dir = Path('download_test').absolute()\n",
    "filename = 'ECMWF_TROP_202409100600_202409100600_1.nc'"
   ]
  },
  {
   "cell_type": "code",
   "execution_count": 7,
   "metadata": {},
   "outputs": [
    {
     "name": "stdout",
     "output_type": "stream",
     "text": [
      "t - [160, 350]\n",
      "q - [1e-10, 0.05]\n",
      "z - [-5000, 65000]\n",
      "lnsp - [10, 12]\n"
     ]
    }
   ],
   "source": [
    "# Print the valid range\n",
    "for id, key in checks.VALID_RANGE.items():\n",
    "    print(f'{id} - {key}')"
   ]
  },
  {
   "cell_type": "code",
   "execution_count": 15,
   "metadata": {},
   "outputs": [],
   "source": [
    "ds = xr.open_dataset(work_dir / filename, chunks={'level':-1})"
   ]
  },
  {
   "cell_type": "code",
   "execution_count": 11,
   "metadata": {},
   "outputs": [
    {
     "name": "stderr",
     "output_type": "stream",
     "text": [
      "/u/aurora-r0/govorcin/miniconda/miniforge/envs/opera_tropo/lib/python3.12/site-packages/distributed/node.py:187: UserWarning: Port 8787 is already in use.\n",
      "Perhaps you already have a cluster running?\n",
      "Hosting the HTTP server on port 39018 instead\n",
      "  warnings.warn(\n"
     ]
    },
    {
     "data": {
      "text/plain": [
       "'http://127.0.0.1:39018/status'"
      ]
     },
     "execution_count": 11,
     "metadata": {},
     "output_type": "execute_result"
    }
   ],
   "source": [
    "from dask.distributed import Client\n",
    "\n",
    "client = Client(\n",
    "    n_workers=4,\n",
    "    threads_per_worker=2,\n",
    "    memory_limit=f\"{4}GB\",\n",
    "    )\n",
    "client.dashboard_link"
   ]
  },
  {
   "cell_type": "code",
   "execution_count": 12,
   "metadata": {},
   "outputs": [],
   "source": [
    "# Preform checks\n",
    "checks.validate_input(ds)"
   ]
  },
  {
   "cell_type": "code",
   "execution_count": 16,
   "metadata": {},
   "outputs": [
    {
     "ename": "ValueError",
     "evalue": "Failed validation checks:\nData Variable \"q\" (Specific humidity) is out of valid range [1e-10, 0.05]. Found min: -0.10000000149011612, max: 0.028651786968111992",
     "output_type": "error",
     "traceback": [
      "\u001b[31m---------------------------------------------------------------------------\u001b[39m",
      "\u001b[31mValueError\u001b[39m                                Traceback (most recent call last)",
      "\u001b[36mCell\u001b[39m\u001b[36m \u001b[39m\u001b[32mIn[16]\u001b[39m\u001b[32m, line 3\u001b[39m\n\u001b[32m      1\u001b[39m \u001b[38;5;66;03m# Test it out\u001b[39;00m\n\u001b[32m      2\u001b[39m ds[\u001b[33m'\u001b[39m\u001b[33mq\u001b[39m\u001b[33m'\u001b[39m] = ds.q.where(ds.q >= \u001b[32m0.01\u001b[39m, -\u001b[32m0.1\u001b[39m)\n\u001b[32m----> \u001b[39m\u001b[32m3\u001b[39m \u001b[43mchecks\u001b[49m\u001b[43m.\u001b[49m\u001b[43mvalidate_input\u001b[49m\u001b[43m(\u001b[49m\u001b[43mds\u001b[49m\u001b[43m)\u001b[49m\n",
      "\u001b[36mFile \u001b[39m\u001b[32m/u/aurora-r0/govorcin/miniconda/miniforge/envs/opera_tropo/lib/python3.12/site-packages/opera_tropo/log/loggin_setup.py:88\u001b[39m, in \u001b[36mlog_runtime.<locals>.wrapper\u001b[39m\u001b[34m(*args, **kwargs)\u001b[39m\n\u001b[32m     84\u001b[39m \u001b[38;5;129m@wraps\u001b[39m(f)\n\u001b[32m     85\u001b[39m \u001b[38;5;28;01mdef\u001b[39;00m\u001b[38;5;250m \u001b[39m\u001b[34mwrapper\u001b[39m(*args: P.args, **kwargs: P.kwargs):\n\u001b[32m     86\u001b[39m     t1 = time.time()\n\u001b[32m---> \u001b[39m\u001b[32m88\u001b[39m     result = \u001b[43mf\u001b[49m\u001b[43m(\u001b[49m\u001b[43m*\u001b[49m\u001b[43margs\u001b[49m\u001b[43m,\u001b[49m\u001b[43m \u001b[49m\u001b[43m*\u001b[49m\u001b[43m*\u001b[49m\u001b[43mkwargs\u001b[49m\u001b[43m)\u001b[49m\n\u001b[32m     90\u001b[39m     t2 = time.time()\n\u001b[32m     91\u001b[39m     elapsed_seconds = t2 - t1\n",
      "\u001b[36mFile \u001b[39m\u001b[32m/u/aurora-r0/govorcin/miniconda/miniforge/envs/opera_tropo/lib/python3.12/site-packages/opera_tropo/checks.py:111\u001b[39m, in \u001b[36mvalidate_input\u001b[39m\u001b[34m(ds)\u001b[39m\n\u001b[32m    109\u001b[39m \u001b[38;5;66;03m# Raise error if any check fails\u001b[39;00m\n\u001b[32m    110\u001b[39m \u001b[38;5;28;01mif\u001b[39;00m checks:\n\u001b[32m--> \u001b[39m\u001b[32m111\u001b[39m     \u001b[38;5;28;01mraise\u001b[39;00m \u001b[38;5;167;01mValueError\u001b[39;00m(\u001b[33m\"\u001b[39m\u001b[33mFailed validation checks:\u001b[39m\u001b[38;5;130;01m\\n\u001b[39;00m\u001b[33m\"\u001b[39m + \u001b[33m\"\u001b[39m\u001b[38;5;130;01m\\n\u001b[39;00m\u001b[33m\"\u001b[39m.join(checks))\n",
      "\u001b[31mValueError\u001b[39m: Failed validation checks:\nData Variable \"q\" (Specific humidity) is out of valid range [1e-10, 0.05]. Found min: -0.10000000149011612, max: 0.028651786968111992"
     ]
    }
   ],
   "source": [
    "# Test it out\n",
    "ds['q'] = ds.q.where(ds.q >= 0.01, -0.1)\n",
    "checks.validate_input(ds)"
   ]
  }
 ],
 "metadata": {
  "kernelspec": {
   "display_name": "opera_tropo",
   "language": "python",
   "name": "python3"
  },
  "language_info": {
   "codemirror_mode": {
    "name": "ipython",
    "version": 3
   },
   "file_extension": ".py",
   "mimetype": "text/x-python",
   "name": "python",
   "nbconvert_exporter": "python",
   "pygments_lexer": "ipython3",
   "version": "3.12.10"
  }
 },
 "nbformat": 4,
 "nbformat_minor": 2
}
